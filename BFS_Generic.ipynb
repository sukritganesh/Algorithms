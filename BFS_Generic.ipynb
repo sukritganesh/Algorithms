{
  "nbformat": 4,
  "nbformat_minor": 0,
  "metadata": {
    "colab": {
      "name": "BFS Generic",
      "provenance": [],
      "collapsed_sections": [],
      "authorship_tag": "ABX9TyMsVSdknJVkNzCddaBwLnyq",
      "include_colab_link": true
    },
    "kernelspec": {
      "name": "python3",
      "display_name": "Python 3"
    }
  },
  "cells": [
    {
      "cell_type": "markdown",
      "metadata": {
        "id": "view-in-github",
        "colab_type": "text"
      },
      "source": [
        "<a href=\"https://colab.research.google.com/github/sukritganesh/Algorithms/blob/master/BFS_Generic.ipynb\" target=\"_parent\"><img src=\"https://colab.research.google.com/assets/colab-badge.svg\" alt=\"Open In Colab\"/></a>"
      ]
    },
    {
      "cell_type": "code",
      "metadata": {
        "id": "plX1MQlCeuvM"
      },
      "source": [
        "import queue"
      ],
      "execution_count": null,
      "outputs": []
    },
    {
      "cell_type": "markdown",
      "metadata": {
        "id": "0CJJ8wH4vBp3"
      },
      "source": [
        "# The BFS Function:\n",
        "\n",
        "The following breadth-first search (BFS) code can be used for most BFS applications. Make sure to write a valid getNeighbors(currentPoint, searchSpace) function, pass in the starting point and list of objectives as arguments to the BFS function. The function will return the shortest path to the nearest objective. The function will return None if no valid path exists."
      ]
    },
    {
      "cell_type": "code",
      "metadata": {
        "id": "lGlNuQNgerAs"
      },
      "source": [
        "# searchSpace is the space (graph, maze, etc.) you are searching\n",
        "\n",
        "# start is the starting point\n",
        "\n",
        "# objectives is a list of objectives you are searching for (if multiple objectives are given, BFS will return path to nearest objective)\n",
        "\n",
        "# getNeighbors(currentPoint, searchSpace) is a function to get the neighbors of the current point \n",
        "# takes in 2 arguments: the search space, and the current point\n",
        "\n",
        "def bfs(searchSpace, start, objectives):\n",
        "  print('Starting Point:', start)\n",
        "\n",
        "  visited = set()                     # contains points you've come across\n",
        "  frontierQueue = queue.Queue()       # frontier queue\n",
        "  frontierQueue.put(start)            # add the starting point to the frontier\n",
        "  parentDictionary = {}               # parent dictionary (for backtracing)\n",
        "\n",
        "  while (frontierQueue.qsize() > 0):\n",
        "    currentPoint = frontierQueue.get()    # retrieve foremost point from frontier queue\n",
        "    visited.add(currentPoint)             # add that point to visited\n",
        "\n",
        "    # backtrace the path once an objective has been reached\n",
        "    if (currentPoint in objectives):\n",
        "      print('Will Backtrace!\\n')\n",
        "      return backtrace(currentPoint, parentDictionary)\n",
        "\n",
        "    # add unvisited neighbors to the frontier\n",
        "    currentNeighbors = getNeighbors(currentPoint, searchSpace)\n",
        "    for n in currentNeighbors:\n",
        "      if (n not in visited):\n",
        "        visited.add(n)\n",
        "        frontierQueue.put(n)\n",
        "        parentDictionary[n] = currentPoint\n",
        "\n",
        "  return None\n",
        "\n",
        "# Helper method: backtrace\n",
        "\n",
        "# Uses the parent dictionary to construct the shortest path from the start to the given point\n",
        "\n",
        "def backtrace(currentPoint, parentDictionary):\n",
        "    thePath = [currentPoint]\n",
        "    while (currentPoint in parentDictionary):\n",
        "        parentPoint = parentDictionary[currentPoint]\n",
        "        thePath = [parentPoint] + thePath\n",
        "        currentPoint = parentPoint\n",
        "    return thePath"
      ],
      "execution_count": null,
      "outputs": []
    },
    {
      "cell_type": "markdown",
      "metadata": {
        "id": "xHGD0-NxvOkt"
      },
      "source": [
        "# Helper Methods:\n",
        "\n",
        "*   getNeighbors(p, searchSpace) - returns the valid neighbors of a point in a maze\n",
        "*   isValidPoint(p, maze) -  checks if a point is valid (not an obstacle, within bounds)\n",
        "*   printMaze(maze) - prints the maze in a visually appealing format\n",
        "*   addPath(maze, path, pathChar=254) - adds the path characters to the maze (in order to visualize the path taken by BFS)\n",
        "\n",
        "Note: The given BFS function can be adapted to many uses. Navigating through mazes is just one of the uses of BFS. Just make sure you write a valid getNeighbors function and pass in the correct arguments to the BFS function."
      ]
    },
    {
      "cell_type": "code",
      "metadata": {
        "id": "DCW3_02mhJ74"
      },
      "source": [
        "# HELPER METHODS\n",
        "\n",
        "# p is a tuple (row, col) containing the coordinates of current point\n",
        "# top-left corner is (0, 0)\n",
        "def getNeighbors(p, maze):\n",
        "  row = p[0]\n",
        "  col = p[1]\n",
        "\n",
        "  # left, right, top, bottom\n",
        "  potentialNeighbors = [(row - 1, col),\n",
        "                        (row + 1, col),\n",
        "                        (row, col - 1),\n",
        "                        (row, col + 1)]\n",
        "\n",
        "  neighbors = []\n",
        "\n",
        "  for pt in potentialNeighbors:\n",
        "    if (isValidPoint(pt, maze)):\n",
        "      neighbors.append(pt)\n",
        "\n",
        "  return neighbors\n",
        "\n",
        "# checks if point is within bounds AND is not a barrier\n",
        "def isValidPoint(p, maze):\n",
        "  row = p[0]\n",
        "  col = p[1]\n",
        "  return row >= 0 and col >= 0 and row < len(maze) and col < len(maze[0]) and maze[row][col] != 'X'\n",
        "\n",
        "# Method to print out maze nicely\n",
        "def printMaze(maze):\n",
        "  for i in range(len(maze[0]) + 2):\n",
        "    print('B', end=' ')\n",
        "  print()\n",
        "\n",
        "  for row in maze:\n",
        "    print('B', end=' ')\n",
        "    for elem in row:\n",
        "      print(elem, end=' ')\n",
        "    print('B')\n",
        "\n",
        "  for i in range(len(maze[0]) + 2):\n",
        "    print('B', end=' ')\n",
        "  print()\n",
        "\n",
        "# Method to add path characters to maze\n",
        "def addPath(maze, path, pathChar=254):\n",
        "  pathChar = 254\n",
        "  for p in path:\n",
        "    row = p[0]\n",
        "    col = p[1]\n",
        "    if (maze[row][col] not in ('S', '+')):\n",
        "      maze[row][col] = chr(pathChar)\n",
        "\n",
        "PATH_CHAR = 254"
      ],
      "execution_count": null,
      "outputs": []
    },
    {
      "cell_type": "markdown",
      "metadata": {
        "id": "dPJ2XD43vJOx"
      },
      "source": [
        "# Example 1:\n",
        "\n",
        "Searching for a target in a 7 x 5 maze"
      ]
    },
    {
      "cell_type": "code",
      "metadata": {
        "id": "LIeFCSD9sNgY",
        "outputId": "81e8c96d-c838-4a35-ff17-3c9bd939f819",
        "colab": {
          "base_uri": "https://localhost:8080/",
          "height": 527
        }
      },
      "source": [
        "# Here is an example (using a 7 x 5 maze)\n",
        "\n",
        "# X is barrier, '+' is objective, 'S' is starting point\n",
        "maze1 = [[' ', ' ', ' ', ' ', ' '], \n",
        "           [' ', ' ', ' ', 'X', ' '], \n",
        "           [' ', 'X', 'X', 'X', ' '], \n",
        "           [' ', ' ', 'X', ' ', ' '], \n",
        "           [' ', ' ', 'X', '+', ' '],\n",
        "           [' ', 'S', 'X', ' ', ' '],\n",
        "           [' ', ' ', 'X', ' ', ' ']]\n",
        "          \n",
        "startingPoint = (5, 1)\n",
        "objectives = [(4, 3)]\n",
        "\n",
        "# Print out the maze before running search\n",
        "print('The maze:\\n')\n",
        "printMaze(maze1)\n",
        "\n",
        "print('\\nWill run BFS:')\n",
        "\n",
        "# run BFS\n",
        "path1 = bfs(maze1, startingPoint, objectives)\n",
        "\n",
        "# add path to maze\n",
        "addPath(maze1, path1)\n",
        "\n",
        "# Finally, print the maze\n",
        "print('Successfully completed BFS.')\n",
        "print('Path Length:', len(path1))\n",
        "print('\\'' + str(chr(PATH_CHAR)) + '\\' represents the path taken, \\'B\\' represents the border of the maze.\\n')\n",
        "\n",
        "printMaze(maze1)"
      ],
      "execution_count": null,
      "outputs": [
        {
          "output_type": "stream",
          "text": [
            "The maze:\n",
            "\n",
            "B B B B B B B \n",
            "B           B\n",
            "B       X   B\n",
            "B   X X X   B\n",
            "B     X     B\n",
            "B     X +   B\n",
            "B   S X     B\n",
            "B     X     B\n",
            "B B B B B B B \n",
            "\n",
            "Will run BFS:\n",
            "Starting Point: (5, 1)\n",
            "Will Backtrace!\n",
            "\n",
            "Successfully completed BFS.\n",
            "Path Length: 16\n",
            "'þ' represents the path taken, 'B' represents the border of the maze.\n",
            "\n",
            "B B B B B B B \n",
            "B þ þ þ þ þ B\n",
            "B þ     X þ B\n",
            "B þ X X X þ B\n",
            "B þ þ X   þ B\n",
            "B   þ X + þ B\n",
            "B   S X     B\n",
            "B     X     B\n",
            "B B B B B B B \n"
          ],
          "name": "stdout"
        }
      ]
    },
    {
      "cell_type": "markdown",
      "metadata": {
        "id": "3Q0ZKxKDvt9D"
      },
      "source": [
        "# Example 2:\n",
        "\n",
        "Searching for a target in a 10 x 10 maze"
      ]
    },
    {
      "cell_type": "code",
      "metadata": {
        "id": "pFI35xUYqoux",
        "outputId": "342a10f2-a35b-42de-c6a8-537e779c49e9",
        "colab": {
          "base_uri": "https://localhost:8080/",
          "height": 633
        }
      },
      "source": [
        "# Here is another example (using a much bigger 10 x 10 maze)\n",
        "\n",
        "maze2 = [\n",
        "         [' ', ' ', ' ', ' ', ' ', ' ', ' ', ' ', ' ', ' '],\n",
        "         [' ', ' ', ' ', ' ', ' ', 'X', 'X', ' ', ' ', ' '],\n",
        "         [' ', ' ', ' ', 'X', 'X', 'X', ' ', ' ', 'X', ' '],\n",
        "         [' ', 'S', ' ', 'X', ' ', 'X', ' ', 'X', 'X', ' '],\n",
        "         ['X', 'X', 'X', 'X', ' ', 'X', ' ', ' ', ' ', ' '],\n",
        "         ['+', 'X', ' ', ' ', ' ', ' ', ' ', 'X', ' ', ' '],\n",
        "         [' ', 'X', ' ', ' ', 'X', ' ', 'X', 'X', 'X', ' '],\n",
        "         [' ', 'X', ' ', 'X', 'X', ' ', ' ', ' ', ' ', ' '],\n",
        "         [' ', 'X', ' ', ' ', 'X', 'X', ' ', 'X', ' ', ' '],\n",
        "         [' ', ' ', ' ', ' ', ' ', ' ', ' ', 'X', ' ', ' ']\n",
        "]\n",
        "\n",
        "startingPoint2 = (3, 1)\n",
        "objectives2 = [(5, 0)]\n",
        "\n",
        "# Print out the maze before running search\n",
        "print('The maze:\\n')\n",
        "printMaze(maze2)\n",
        "\n",
        "print('\\nWill run BFS:')\n",
        "\n",
        "# run BFS\n",
        "path2 = bfs(maze2, startingPoint2, objectives2)\n",
        "\n",
        "# add path to maze\n",
        "addPath(maze2, path2)\n",
        "\n",
        "# Finally, print the maze\n",
        "print('Successfully completed BFS.')\n",
        "print('Path Length:', len(path2))\n",
        "print('\\'' + str(chr(PATH_CHAR)) + '\\' represents the path taken, \\'B\\' represents the border of the maze.\\n')\n",
        "\n",
        "printMaze(maze2)\n"
      ],
      "execution_count": null,
      "outputs": [
        {
          "output_type": "stream",
          "text": [
            "The maze:\n",
            "\n",
            "B B B B B B B B B B B B \n",
            "B                     B\n",
            "B           X X       B\n",
            "B       X X X     X   B\n",
            "B   S   X   X   X X   B\n",
            "B X X X X   X         B\n",
            "B + X           X     B\n",
            "B   X     X   X X X   B\n",
            "B   X   X X           B\n",
            "B   X     X X   X     B\n",
            "B               X     B\n",
            "B B B B B B B B B B B B \n",
            "\n",
            "Will run BFS:\n",
            "Starting Point: (3, 1)\n",
            "Will Backtrace!\n",
            "\n",
            "Successfully completed BFS.\n",
            "Path Length: 30\n",
            "'þ' represents the path taken, 'B' represents the border of the maze.\n",
            "\n",
            "B B B B B B B B B B B B \n",
            "B   þ þ þ þ þ þ þ     B\n",
            "B   þ       X X þ     B\n",
            "B   þ   X X X þ þ X   B\n",
            "B   S   X   X þ X X   B\n",
            "B X X X X   X þ       B\n",
            "B + X   þ þ þ þ X     B\n",
            "B þ X þ þ X   X X X   B\n",
            "B þ X þ X X           B\n",
            "B þ X þ   X X   X     B\n",
            "B þ þ þ         X     B\n",
            "B B B B B B B B B B B B \n"
          ],
          "name": "stdout"
        }
      ]
    }
  ]
}