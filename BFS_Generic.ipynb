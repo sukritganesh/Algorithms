{
  "nbformat": 4,
  "nbformat_minor": 0,
  "metadata": {
    "colab": {
      "name": "BFS Generic",
      "provenance": [],
      "collapsed_sections": [],
      "authorship_tag": "ABX9TyM+Ewg2Jx3eNB3TpDUFAN4s",
      "include_colab_link": true
    },
    "kernelspec": {
      "name": "python3",
      "display_name": "Python 3"
    }
  },
  "cells": [
    {
      "cell_type": "markdown",
      "metadata": {
        "id": "view-in-github",
        "colab_type": "text"
      },
      "source": [
        "<a href=\"https://colab.research.google.com/github/sukritganesh/Algorithms/blob/master/BFS_Generic.ipynb\" target=\"_parent\"><img src=\"https://colab.research.google.com/assets/colab-badge.svg\" alt=\"Open In Colab\"/></a>"
      ]
    },
    {
      "cell_type": "code",
      "metadata": {
        "id": "plX1MQlCeuvM"
      },
      "source": [
        "import queue"
      ],
      "execution_count": null,
      "outputs": []
    },
    {
      "cell_type": "markdown",
      "metadata": {
        "id": "krmACHYOgmSd"
      },
      "source": [
        "The following Breadth-First search code can be used for most BFS applications. Make sure to write a valid getNeighbors(currentPoint, searchSpace) function, pass in the starting point and list of objectives as arguments to the bfs function. The function will return the shortest path to the nearest objective. The function will return None if no valid path exists."
      ]
    },
    {
      "cell_type": "code",
      "metadata": {
        "id": "lGlNuQNgerAs"
      },
      "source": [
        "# searchSpace is the space (graph, maze, etc.) you are searching\n",
        "\n",
        "# start is the starting point\n",
        "\n",
        "# objectives is a list of objectives you are searching for (if multiple objectives are given, BFS will return path to nearest objective)\n",
        "\n",
        "# getNeighbors(currentPoint, searchSpace) is a function to get the neighbors of the current point \n",
        "# takes in 2 arguments: the search space, and the current point\n",
        "\n",
        "def bfs(searchSpace, start, objectives):\n",
        "  print('Starting Point:', start)\n",
        "\n",
        "  visited = set()                     # contains points you've come across\n",
        "  frontierQueue = queue.Queue()       # frontier queue\n",
        "  frontierQueue.put(start)            # add the starting point to the frontier\n",
        "  parentDictionary = {}               # parent dictionary (for backtracing)\n",
        "\n",
        "  while (frontierQueue.qsize() > 0):\n",
        "    currentPoint = frontierQueue.get()    # retrieve foremost point from frontier queue\n",
        "    visited.add(currentPoint)             # add that point to visited (may be redundant)\n",
        "\n",
        "    # backtrace the path once an objective has been reached\n",
        "    if (currentPoint in objectives):\n",
        "      print('Will Backtrace!\\n')\n",
        "      return backtrace(currentPoint, parentDictionary)\n",
        "\n",
        "    currentNeighbors = getNeighbors(currentPoint, searchSpace)\n",
        "    for n in currentNeighbors:\n",
        "      if (n not in visited):\n",
        "        visited.add(n)\n",
        "        frontierQueue.put(n)\n",
        "        parentDictionary[n] = currentPoint\n",
        "\n",
        "  return None\n",
        "\n",
        "# Helper method: backtrace\n",
        "\n",
        "# Uses the parent dictionary to construct the shortest path from the start to the given point\n",
        "\n",
        "def backtrace(currentPoint, parentDictionary):\n",
        "    thePath = [currentPoint]\n",
        "    while (currentPoint in parentDictionary):\n",
        "        parentPoint = parentDictionary[currentPoint]\n",
        "        thePath = [parentPoint] + thePath\n",
        "        currentPoint = parentPoint\n",
        "    return thePath"
      ],
      "execution_count": null,
      "outputs": []
    },
    {
      "cell_type": "code",
      "metadata": {
        "id": "DCW3_02mhJ74",
        "outputId": "6a6192c6-c363-4c5e-aaa0-3e48c032b69e",
        "colab": {
          "base_uri": "https://localhost:8080/",
          "height": 492
        }
      },
      "source": [
        "# Here is an example using a text getNeighbors function\n",
        "\n",
        "# X is barrier, '+' is objective, 'S' is starting point\n",
        "theMaze = [[' ', ' ', ' ', ' ', ' '], \n",
        "           [' ', ' ', ' ', 'X', ' '], \n",
        "           [' ', 'X', 'X', 'X', ' '], \n",
        "           [' ', ' ', 'X', ' ', ' '], \n",
        "           [' ', ' ', 'X', '+', ' '],\n",
        "           [' ', 'S', 'X', ' ', ' '],\n",
        "           [' ', ' ', 'X', ' ', ' ']]\n",
        "          \n",
        "startingPoint = (5, 1)\n",
        "objectives = [(4, 3)]\n",
        "\n",
        "# p is a tuple (row, col) containing the coordinates of current point\n",
        "# top-left corner is (0, 0)\n",
        "def getNeighbors(p, searchSpace):\n",
        "  row = p[0]\n",
        "  col = p[1]\n",
        "\n",
        "  # left, right, top, bottom\n",
        "  potentialNeighbors = [(row - 1, col),\n",
        "                        (row + 1, col),\n",
        "                        (row, col - 1),\n",
        "                        (row, col + 1)]\n",
        "\n",
        "  neighbors = []\n",
        "\n",
        "  for pt in potentialNeighbors:\n",
        "    if (isValidPoint(pt, theMaze)):\n",
        "      neighbors.append(pt)\n",
        "\n",
        "  return neighbors\n",
        "\n",
        "# checks if point is within bounds AND is not a barrier\n",
        "def isValidPoint(p, maze):\n",
        "  row = p[0]\n",
        "  col = p[1]\n",
        "  return row >= 0 and col >= 0 and row < len(maze) and col < len(maze[0]) and maze[row][col] != 'X'\n",
        "\n",
        "# Method to print out maze nicely\n",
        "def printMaze(theMaze):\n",
        "  for i in range(len(theMaze[0]) + 2):\n",
        "    print('B', end=' ')\n",
        "  print()\n",
        "\n",
        "  for row in theMaze:\n",
        "    print('B', end=' ')\n",
        "    for elem in row:\n",
        "      print(elem, end=' ')\n",
        "    print('B')\n",
        "\n",
        "  for i in range(len(theMaze[0]) + 2):\n",
        "    print('B', end=' ')\n",
        "  print()\n",
        "\n",
        "# Print out the maze before running search\n",
        "print('The maze:\\n')\n",
        "printMaze(theMaze)\n",
        "\n",
        "print('\\nWill run BFS:')\n",
        "\n",
        "# run BFS\n",
        "path = bfs(theMaze, startingPoint, objectives)\n",
        "\n",
        "# add path to maze\n",
        "pathChar = 254\n",
        "for p in path:\n",
        "  row = p[0]\n",
        "  col = p[1]\n",
        "  if (theMaze[row][col] not in ('S', '+')):\n",
        "    theMaze[row][col] = chr(pathChar)\n",
        "\n",
        "# Finally, print the maze\n",
        "print('Successfully completed BFS.')\n",
        "print('\\'' + str(chr(pathChar)) + '\\' represents the path taken, \\'B\\' represents the border of the maze.\\n')\n",
        "\n",
        "printMaze(theMaze)"
      ],
      "execution_count": null,
      "outputs": [
        {
          "output_type": "stream",
          "text": [
            "The maze:\n",
            "\n",
            "B B B B B B B \n",
            "B           B\n",
            "B       X   B\n",
            "B   X X X   B\n",
            "B     X     B\n",
            "B     X +   B\n",
            "B   S X     B\n",
            "B     X     B\n",
            "B B B B B B B \n",
            "\n",
            "Will run BFS:\n",
            "Starting Point: (5, 1)\n",
            "Will Backtrace!\n",
            "\n",
            "'þ' represents the path taken, 'B' represents the border of the maze.\n",
            "\n",
            "B B B B B B B \n",
            "B þ þ þ þ þ B\n",
            "B þ     X þ B\n",
            "B þ X X X þ B\n",
            "B þ þ X   þ B\n",
            "B   þ X + þ B\n",
            "B   S X     B\n",
            "B     X     B\n",
            "B B B B B B B \n"
          ],
          "name": "stdout"
        }
      ]
    }
  ]
}