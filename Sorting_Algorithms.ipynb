{
  "nbformat": 4,
  "nbformat_minor": 0,
  "metadata": {
    "colab": {
      "name": "Sorting Algorithms",
      "provenance": [],
      "collapsed_sections": [],
      "toc_visible": true,
      "authorship_tag": "ABX9TyPQ6ln6SBICWqBdIOTbX4fe",
      "include_colab_link": true
    },
    "kernelspec": {
      "name": "python3",
      "display_name": "Python 3"
    }
  },
  "cells": [
    {
      "cell_type": "markdown",
      "metadata": {
        "id": "view-in-github",
        "colab_type": "text"
      },
      "source": [
        "<a href=\"https://colab.research.google.com/github/sukritganesh/Algorithms/blob/master/Sorting_Algorithms.ipynb\" target=\"_parent\"><img src=\"https://colab.research.google.com/assets/colab-badge.svg\" alt=\"Open In Colab\"/></a>"
      ]
    },
    {
      "cell_type": "markdown",
      "metadata": {
        "id": "g53Y8V0r2u6W"
      },
      "source": [
        "# Preamble\n",
        "\n",
        "This notebook contains a collection of popular sorting algorithms. Feel free to use them, modify them, and play around with them to heart's content. These sorting algorithms are great for educational or practical applications!"
      ]
    },
    {
      "cell_type": "code",
      "metadata": {
        "id": "zJSsD_GV2iB2"
      },
      "source": [
        "import numpy as np\n",
        "import math\n",
        "import random\n",
        "import copy"
      ],
      "execution_count": 7,
      "outputs": []
    },
    {
      "cell_type": "markdown",
      "metadata": {
        "id": "__FIgmqs3C9A"
      },
      "source": [
        "# Selection Sort\n",
        "\n",
        "Selection sort involves finding the minimum element in the array and moving it to the front.\n",
        "\n",
        "Time Complexity: O(n^2)"
      ]
    },
    {
      "cell_type": "code",
      "metadata": {
        "id": "4kEVj0O22pqA"
      },
      "source": [
        "def selectionSort(arr):\n",
        "  for i in range(len(arr)):\n",
        "    # step 1: find the minimum element in the current subarray\n",
        "    minVal = arr[i]\n",
        "    minIdx = i\n",
        "    for j in range(i, len(arr), 1):\n",
        "      if (arr[j] < minVal):\n",
        "        minVal = arr[j]\n",
        "        minIdx = j\n",
        "      \n",
        "    # step 2: swap the minimum value with the first value in the current subarray\n",
        "    temp = arr[minIdx]\n",
        "    arr[minIdx] = arr[i]\n",
        "    arr[i] = temp\n",
        "\n",
        "    # now, repeat the process, but with the last i-1 elements\n",
        "    # we shrink the size of our unsorted subarray, as we have placed another element in the right position\n",
        "\n",
        "  return arr "
      ],
      "execution_count": 5,
      "outputs": []
    },
    {
      "cell_type": "code",
      "metadata": {
        "id": "jaAPzgAg4YQu",
        "outputId": "655fb4df-5672-40e5-c03f-a847bb147d1c",
        "colab": {
          "base_uri": "https://localhost:8080/",
          "height": 140
        }
      },
      "source": [
        "# Selection Sort Examples\n",
        "print('\\nSelection Sort Examples:\\n')\n",
        "\n",
        "arr1 = np.random.randint(low = -10, high = 10, size = 8)\n",
        "arr2 = [1]\n",
        "arr3 = [1, 4, 6, 4, 1]\n",
        "arr4 = [0, -1323, 0.222, 0.377232, 411.823]\n",
        "\n",
        "arrs = [arr1, arr2, arr3, arr4]\n",
        "\n",
        "for arr in arrs:\n",
        "  print(arr, end=' ')\n",
        "  selectionSort(arr)\n",
        "  print('sorted:', arr)\n"
      ],
      "execution_count": 10,
      "outputs": [
        {
          "output_type": "stream",
          "text": [
            "\n",
            "Selection Sort Examples:\n",
            "\n",
            "[ -3   9   7 -10   7   7   1  -8] sorted: [-10  -8  -3   1   7   7   7   9]\n",
            "[1] sorted: [1]\n",
            "[1, 4, 6, 4, 1] sorted: [1, 1, 4, 4, 6]\n",
            "[0, -1323, 0.222, 0.377232, 411.823] sorted: [-1323, 0, 0.222, 0.377232, 411.823]\n"
          ],
          "name": "stdout"
        }
      ]
    },
    {
      "cell_type": "markdown",
      "metadata": {
        "id": "0P1OITgq6Oud"
      },
      "source": [
        "# Insertion Sort\n",
        "\n",
        "Best Case: O(n)\n",
        "\n",
        "Worst Case: O(n^2)\n",
        "\n",
        "Average: O(n^2)\n",
        "\n"
      ]
    },
    {
      "cell_type": "code",
      "metadata": {
        "id": "AI_HFnbN6gwJ"
      },
      "source": [
        "def insertionSort(arr):\n",
        "  for i in range(1, len(arr), 1):\n",
        "    currKey = arr[i]\n",
        "    j = i - 1\n",
        "\n",
        "    while (j >= 0 and arr[j] > currKey): \n",
        "      # move up if arr[j] > currKey\n",
        "      if (arr[j] > currKey):\n",
        "        arr[j + 1] = arr[j]\n",
        "      j -= 1\n",
        "    \n",
        "    # once you've reached the correct position, insert currKey\n",
        "    arr[j + 1] = currKey\n",
        "      \n",
        "  return arr\n"
      ],
      "execution_count": 12,
      "outputs": []
    },
    {
      "cell_type": "code",
      "metadata": {
        "id": "TG4vV3pS7CUs",
        "outputId": "512d76f6-990b-48f0-ae4b-0e94a6a5d088",
        "colab": {
          "base_uri": "https://localhost:8080/",
          "height": 140
        }
      },
      "source": [
        "# Insertion Sort Examples\n",
        "print('\\nInsertion Sort Examples:\\n')\n",
        "\n",
        "arr1 = np.random.randint(low = -10, high = 10, size = 8)\n",
        "arr2 = [1]\n",
        "arr3 = [1, 4, 6, 4, 1]\n",
        "arr4 = [0, -1323, 0.222, 0.377232, 411.823]\n",
        "\n",
        "arrs = [arr1, arr2, arr3, arr4]\n",
        "\n",
        "for arr in arrs:\n",
        "  print(arr, end=' ')\n",
        "  insertionSort(arr)\n",
        "  print('sorted:', arr)\n"
      ],
      "execution_count": 13,
      "outputs": [
        {
          "output_type": "stream",
          "text": [
            "\n",
            "Insertion Sort Examples:\n",
            "\n",
            "[-2 -7 -1  6  2  7  7  2] sorted: [-7 -2 -1  2  2  6  7  7]\n",
            "[1] sorted: [1]\n",
            "[1, 4, 6, 4, 1] sorted: [1, 1, 4, 4, 6]\n",
            "[0, -1323, 0.222, 0.377232, 411.823] sorted: [-1323, 0, 0.222, 0.377232, 411.823]\n"
          ],
          "name": "stdout"
        }
      ]
    },
    {
      "cell_type": "markdown",
      "metadata": {
        "id": "TCTLGgtOZ1Df"
      },
      "source": [
        "# Bubble Sort\n",
        "\n",
        "Bubble sort works by \"bubbling\" the highest values to the highest index in the array. Algorithm terminates immediately after array is sorted.\n",
        "\n",
        "Best Case: O(n)\n",
        "\n",
        "Worst Case: O(n^2)\n",
        "\n",
        "Average: O(n^2)"
      ]
    },
    {
      "cell_type": "code",
      "metadata": {
        "id": "893q7kdibr2A"
      },
      "source": [
        "def bubbleSort(arr):\n",
        "  for i in range(len(arr) - 1, 1, -1):\n",
        "    currSwaps = 0   # keeps track of number of swaps this iteration\n",
        "    for j in range(i - 1):\n",
        "      if (arr[j] > arr[j + 1]):\n",
        "        # swap arr[j] and arr[j + 1]\n",
        "        temp = arr[j]\n",
        "        arr[j] = arr[j + 1]\n",
        "        arr[j + 1] = temp\n",
        "        currSwaps += 1\n",
        "\n",
        "    # if no swaps are made, array is sorted\n",
        "    if (currSwaps == 0):\n",
        "      return arr\n",
        "\n",
        "  return arr"
      ],
      "execution_count": 14,
      "outputs": []
    },
    {
      "cell_type": "code",
      "metadata": {
        "id": "DHdtzlA4Zp6H",
        "outputId": "7a32050d-7dab-4ce6-b8b9-be72ddad32a4",
        "colab": {
          "base_uri": "https://localhost:8080/",
          "height": 158
        }
      },
      "source": [
        "# Bubble Sort Examples\n",
        "print('\\nBubble Sort Examples:\\n')\n",
        "\n",
        "arr1 = np.random.randint(low = -10, high = 10, size = 8)\n",
        "arr2 = [1]\n",
        "arr3 = [1, 4, 6, 4, 1]\n",
        "arr4 = [0, -1323, 0.222, 0.377232, 411.823]\n",
        "arr5 = [0, 1, 2, 3, 5, 4, 6, 7, 8, 9]\n",
        "\n",
        "arrs = [arr1, arr2, arr3, arr4, arr5]\n",
        "\n",
        "for arr in arrs:\n",
        "  print(arr, end=' ')\n",
        "  bubbleSort(arr)\n",
        "  print('sorted:', arr)\n"
      ],
      "execution_count": 18,
      "outputs": [
        {
          "output_type": "stream",
          "text": [
            "\n",
            "Bubble Sort Examples:\n",
            "\n",
            "[  8  -6  -9  -5  -1  -8 -10   4] sorted: [-10  -9  -8  -6  -5  -1   8   4]\n",
            "[1] sorted: [1]\n",
            "[1, 4, 6, 4, 1] sorted: [1, 4, 4, 6, 1]\n",
            "[0, -1323, 0.222, 0.377232, 411.823] sorted: [-1323, 0, 0.222, 0.377232, 411.823]\n",
            "[0, 1, 2, 3, 5, 4, 6, 7, 8, 9] sorted: [0, 1, 2, 3, 4, 5, 6, 7, 8, 9]\n"
          ],
          "name": "stdout"
        }
      ]
    }
  ]
}